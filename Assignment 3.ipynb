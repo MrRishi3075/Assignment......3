{
 "cells": [
  {
   "cell_type": "markdown",
   "id": "072a702f-7c8f-410d-94ce-c8b5916f1834",
   "metadata": {},
   "source": [
    "Q1. Which keyword is used to create a function? Create a function to return a list of odd numbers in the \n",
    "range of 1 to 25"
   ]
  },
  {
   "cell_type": "raw",
   "id": "2b0f762e-375a-436f-a2c5-f8015fadc4b8",
   "metadata": {},
   "source": [
    "Python, the keyword used to create a function is \"def\". To create a function that returns a list "
   ]
  },
  {
   "cell_type": "code",
   "execution_count": 4,
   "id": "37359005-bbb1-4ca0-af6c-174f1fcf47e2",
   "metadata": {},
   "outputs": [],
   "source": [
    "l=range(1,25)"
   ]
  },
  {
   "cell_type": "code",
   "execution_count": 5,
   "id": "480e6607-398f-478d-8fae-e2cdf98b261f",
   "metadata": {},
   "outputs": [
    {
     "name": "stdout",
     "output_type": "stream",
     "text": [
      "1\n",
      "2\n",
      "3\n",
      "4\n",
      "5\n",
      "6\n",
      "7\n",
      "8\n",
      "9\n",
      "10\n",
      "11\n",
      "12\n",
      "13\n",
      "14\n",
      "15\n",
      "16\n",
      "17\n",
      "18\n",
      "19\n",
      "20\n",
      "21\n",
      "22\n",
      "23\n",
      "24\n"
     ]
    }
   ],
   "source": [
    "for i in l:\n",
    "    print(i)"
   ]
  },
  {
   "cell_type": "code",
   "execution_count": 6,
   "id": "b9094070-c4e0-4e67-95d7-29ac051e74c5",
   "metadata": {},
   "outputs": [
    {
     "data": {
      "text/plain": [
       "[1, 3, 5, 7, 9, 11, 13, 15, 17, 19, 21, 23]"
      ]
     },
     "execution_count": 6,
     "metadata": {},
     "output_type": "execute_result"
    }
   ],
   "source": [
    "list(filter(lambda x:x%2!=0,l))"
   ]
  },
  {
   "cell_type": "code",
   "execution_count": 7,
   "id": "d6fc5a3a-38d8-4df2-9121-e66b27969697",
   "metadata": {},
   "outputs": [
    {
     "name": "stdout",
     "output_type": "stream",
     "text": [
      "[1, 3, 5, 7, 9, 11, 13, 15, 17, 19, 21, 23]\n"
     ]
    }
   ],
   "source": [
    "def get_odd_numbers():\n",
    "    odd_numbers = []\n",
    "    for number in range(1, 25):\n",
    "        if number % 2 != 0:\n",
    "            odd_numbers.append(number)\n",
    "    return odd_numbers\n",
    "\n",
    "# Calling the function\n",
    "result = get_odd_numbers()\n",
    "print(result)\n"
   ]
  },
  {
   "cell_type": "markdown",
   "id": "e8faad7f-d336-455e-bee0-9bbe2ba2a084",
   "metadata": {},
   "source": [
    "Q2. Why *args and **kwargs is used in some functions? Create a function each for *args and **kwargs \n",
    "to demonstrate their use."
   ]
  },
  {
   "cell_type": "raw",
   "id": "cbb2d04c-c26f-4297-b5a7-5f8812f28cdf",
   "metadata": {},
   "source": [
    "In Python, *args and **kwargs are used to pass a variable number of arguments to a function.\n",
    "\n",
    "*args allows you to pass a variable number of positional arguments to a function.\n",
    "The args parameter inside the function becomes a tuple that holds all the arguments passed to the function.\n",
    "It is useful when you don't know how many arguments will be passed in advance.\n",
    "You can iterate over the args tuple or access specific arguments by their index."
   ]
  },
  {
   "cell_type": "code",
   "execution_count": 8,
   "id": "6f8ee966-95a7-4549-bf62-cdd4950e2393",
   "metadata": {},
   "outputs": [
    {
     "name": "stdout",
     "output_type": "stream",
     "text": [
      "Hello world!\n"
     ]
    }
   ],
   "source": [
    "def test(*args):\n",
    "    result = \"\"\n",
    "    for test in args:\n",
    "        result += test\n",
    "    return result\n",
    "\n",
    "# Calling the function\n",
    "print(test(\"Hello\", \" \", \"world\", \"!\"))\n"
   ]
  },
  {
   "cell_type": "raw",
   "id": "8eba36ed-0f30-4c1f-8e74-6d1191abf347",
   "metadata": {},
   "source": [
    "**kwargs allows you to pass a variable number of keyword arguments (key-value pairs) to a function. The kwargs parameter inside the function becomes a dictionary that holds all the keyword arguments passed to the function. It is useful when you want to provide optional arguments to a function."
   ]
  },
  {
   "cell_type": "code",
   "execution_count": 12,
   "id": "6cdb4c5b-e032-448d-bc58-6101afb827fc",
   "metadata": {},
   "outputs": [
    {
     "name": "stdout",
     "output_type": "stream",
     "text": [
      "Name: Alice\n",
      "Age: 25\n",
      "City: New York\n"
     ]
    }
   ],
   "source": [
    "def test15(**kwargs):\n",
    "    for key, value in kwargs.items():\n",
    "        print(f\"{key}: {value}\")\n",
    "\n",
    "# Calling the function\n",
    "test15(Name=\"Alice\", Age=25, City=\"New York\")\n"
   ]
  },
  {
   "cell_type": "markdown",
   "id": "09e6e9fb-037f-4ec6-865b-490d7c88c234",
   "metadata": {},
   "source": [
    "Q3.  What is an iterator in python? Name the method used to initialise the iterator object and the method \n",
    "used for iteration. Use these methods to print the first five elements of the given list [2, 4, 6, 8, 10, 12, 14, \n",
    "16, 18, 20]."
   ]
  },
  {
   "cell_type": "code",
   "execution_count": 17,
   "id": "a9805086-3c13-4584-b3ab-afaaf0d8e39a",
   "metadata": {},
   "outputs": [
    {
     "name": "stdout",
     "output_type": "stream",
     "text": [
      "2\n",
      "4\n",
      "6\n",
      "8\n",
      "10\n"
     ]
    }
   ],
   "source": [
    "l= [2, 4, 6, 8, 10, 12, 14, 16, 18, 20]\n",
    "\n",
    "# Initialize the iterator\n",
    "l1= iter(l)\n",
    "\n",
    "# Iterate and print the first five elements\n",
    "for l2 in range(5):\n",
    "    l2 = next(l1)\n",
    "    print(l2)\n"
   ]
  },
  {
   "cell_type": "markdown",
   "id": "03c8be70-fd09-4d00-9690-9ff7abc65eb0",
   "metadata": {},
   "source": [
    "Q4.  What is a generator function in python? Why yield keyword is used? Give an example of a generator \n",
    "function."
   ]
  },
  {
   "cell_type": "code",
   "execution_count": 18,
   "id": "ffd575be-a3bc-4166-8550-4a2ca7307892",
   "metadata": {},
   "outputs": [
    {
     "data": {
      "text/plain": [
       "range(1, 10)"
      ]
     },
     "execution_count": 18,
     "metadata": {},
     "output_type": "execute_result"
    }
   ],
   "source": [
    "range(1,10)"
   ]
  },
  {
   "cell_type": "code",
   "execution_count": 20,
   "id": "24cc9695-8e87-4865-8942-544f46d0dd1b",
   "metadata": {},
   "outputs": [
    {
     "name": "stdout",
     "output_type": "stream",
     "text": [
      "1\n",
      "2\n",
      "3\n",
      "4\n",
      "5\n",
      "6\n",
      "7\n",
      "8\n",
      "9\n"
     ]
    }
   ],
   "source": [
    "for i in range(1,10):\n",
    "    print(i)"
   ]
  },
  {
   "cell_type": "code",
   "execution_count": 21,
   "id": "05476f75-6d76-4cee-992d-40126635cac7",
   "metadata": {},
   "outputs": [],
   "source": [
    "def test_fib(n):\n",
    "    a,b=8,9\n",
    "    for i in range(n):\n",
    "        yield a #yield function is called generator function\n",
    "        a,b=b,a+b"
   ]
  },
  {
   "cell_type": "code",
   "execution_count": 23,
   "id": "ad6591c3-3e66-4951-a264-6f006f553852",
   "metadata": {},
   "outputs": [
    {
     "name": "stdout",
     "output_type": "stream",
     "text": [
      "8\n",
      "9\n",
      "17\n",
      "26\n",
      "43\n",
      "69\n",
      "112\n",
      "181\n",
      "293\n",
      "474\n"
     ]
    }
   ],
   "source": [
    "for i in test_fib(10):\n",
    "    print(i)"
   ]
  },
  {
   "cell_type": "code",
   "execution_count": 24,
   "id": "d4f9557b-6446-4f63-a899-9245a22549d0",
   "metadata": {},
   "outputs": [
    {
     "name": "stdout",
     "output_type": "stream",
     "text": [
      "0\n",
      "2\n",
      "4\n",
      "6\n",
      "8\n"
     ]
    }
   ],
   "source": [
    "def generate_even_numbers(n):\n",
    "    for i in range(n):\n",
    "        if i % 2 == 0:\n",
    "            yield i\n",
    "\n",
    "# Create an iterator from the generator function\n",
    "iterator = generate_even_numbers(10)\n",
    "\n",
    "# Iterate and print the even numbers\n",
    "for num in iterator:\n",
    "    print(num)\n"
   ]
  },
  {
   "cell_type": "markdown",
   "id": "b0a18f10-787e-4cf6-9eac-9a71ddd7922b",
   "metadata": {},
   "source": [
    "Q5. Create a generator function for prime numbers less than 1000. Use the next() method to print the \n",
    "first 20 prime numbers."
   ]
  },
  {
   "cell_type": "code",
   "execution_count": 25,
   "id": "a02e8cc3-9f50-46e0-b0ec-0495fb09551b",
   "metadata": {},
   "outputs": [
    {
     "name": "stdout",
     "output_type": "stream",
     "text": [
      "2\n",
      "3\n",
      "5\n",
      "7\n",
      "11\n",
      "13\n",
      "17\n",
      "19\n",
      "23\n",
      "29\n",
      "31\n",
      "37\n",
      "41\n",
      "43\n",
      "47\n",
      "53\n",
      "59\n",
      "61\n",
      "67\n",
      "71\n"
     ]
    }
   ],
   "source": [
    "def generate_prime_numbers():\n",
    "    yield 2  # 2 is the first prime number\n",
    "    primes = [2]  # List to keep track of prime numbers\n",
    "    num = 3  # Start checking from 3\n",
    "\n",
    "    while num < 1000:\n",
    "        is_prime = True\n",
    "\n",
    "        for prime in primes:\n",
    "            if num % prime == 0:\n",
    "                is_prime = False\n",
    "                break\n",
    "\n",
    "        if is_prime:\n",
    "            yield num\n",
    "            primes.append(num)\n",
    "\n",
    "        num += 2  # Check only odd numbers\n",
    "\n",
    "# Create an iterator from the generator function\n",
    "iterator = generate_prime_numbers()\n",
    "\n",
    "# Print the first 20 prime numbers using next()\n",
    "for _ in range(20):\n",
    "    prime = next(iterator)\n",
    "    print(prime)\n"
   ]
  },
  {
   "cell_type": "markdown",
   "id": "265bf1b0-1400-4167-b7d6-d94413d8d740",
   "metadata": {},
   "source": [
    "Q6. Write a python program to print the first 10 Fibonacci numbers using a while loop."
   ]
  },
  {
   "cell_type": "code",
   "execution_count": 34,
   "id": "01854b1f-2cb7-4392-b760-2564cb28a39e",
   "metadata": {},
   "outputs": [],
   "source": [
    "def test_fib1():\n",
    "    a,b=4,8\n",
    "    while True:\n",
    "        yield a\n",
    "        a,b=b,a+b"
   ]
  },
  {
   "cell_type": "code",
   "execution_count": 35,
   "id": "64029c16-a33a-4fb6-a437-14dc4aab9b45",
   "metadata": {},
   "outputs": [],
   "source": [
    "fib = test_fib1()"
   ]
  },
  {
   "cell_type": "code",
   "execution_count": 36,
   "id": "89c6c64a-451e-4b8b-8623-27eac141e8ca",
   "metadata": {},
   "outputs": [
    {
     "name": "stdout",
     "output_type": "stream",
     "text": [
      "4\n",
      "8\n",
      "12\n",
      "20\n",
      "32\n",
      "52\n",
      "84\n",
      "136\n",
      "220\n",
      "356\n"
     ]
    }
   ],
   "source": [
    "for i in range(10):\n",
    "    print(next (fib))"
   ]
  },
  {
   "cell_type": "markdown",
   "id": "e4c7248e-2b6c-42b5-88a3-3ca44a96316c",
   "metadata": {},
   "source": [
    "Q7. Write a List Comprehension to iterate through the given string: ‘pwskills’.\n",
    "\n",
    "Expected output: ['p', 'w', 's', 'k', 'i', 'l', 'l', 's']"
   ]
  },
  {
   "cell_type": "code",
   "execution_count": 37,
   "id": "2ffc931b-4f57-4867-9a1d-597c8d8665cc",
   "metadata": {},
   "outputs": [],
   "source": [
    "s=\"pwskills\""
   ]
  },
  {
   "cell_type": "code",
   "execution_count": 38,
   "id": "825b7a79-23b4-4661-994c-f1b23717d748",
   "metadata": {},
   "outputs": [],
   "source": [
    "s1=iter(s)"
   ]
  },
  {
   "cell_type": "code",
   "execution_count": 39,
   "id": "a1e928bd-662b-4745-933a-9ee4193b41b4",
   "metadata": {},
   "outputs": [
    {
     "data": {
      "text/plain": [
       "['p', 'w', 's', 'k', 'i', 'l', 'l', 's']"
      ]
     },
     "execution_count": 39,
     "metadata": {},
     "output_type": "execute_result"
    }
   ],
   "source": [
    "list(map(lambda s:s.lower(),s))"
   ]
  },
  {
   "cell_type": "markdown",
   "id": "de779fc6-b4ea-4776-b05c-25822b499fad",
   "metadata": {},
   "source": [
    "Q8. Write a python program to check whether a given number is Palindrome or not using a while loop."
   ]
  },
  {
   "cell_type": "code",
   "execution_count": 42,
   "id": "691fd4b2-6f02-45a6-9159-0b9a0542a5d4",
   "metadata": {},
   "outputs": [
    {
     "name": "stdin",
     "output_type": "stream",
     "text": [
      "Enter a number:  -5\n"
     ]
    },
    {
     "name": "stdout",
     "output_type": "stream",
     "text": [
      "-5 is not a palindrome.\n"
     ]
    }
   ],
   "source": [
    "def is_palindrome(number):\n",
    "    original_number = number\n",
    "    reverse_number = 0\n",
    "\n",
    "    while number > 0:\n",
    "        digit = number % 10\n",
    "        reverse_number = reverse_number * 10 + digit\n",
    "        number //= 10\n",
    "\n",
    "    if original_number == reverse_number:\n",
    "        return True\n",
    "    else:\n",
    "        return False\n",
    "\n",
    "# Test the function\n",
    "number = int(input(\"Enter a number: \"))\n",
    "if is_palindrome(number):\n",
    "    print(f\"{number} is a palindrome.\")\n",
    "else:\n",
    "    print(f\"{number} is not a palindrome.\")\n"
   ]
  },
  {
   "cell_type": "code",
   "execution_count": 43,
   "id": "9e72eb9a-718d-46c6-b195-11f37d1bd12d",
   "metadata": {},
   "outputs": [
    {
     "name": "stdin",
     "output_type": "stream",
     "text": [
      "Enter a number:  10\n"
     ]
    },
    {
     "name": "stdout",
     "output_type": "stream",
     "text": [
      "10 is not a palindrome.\n"
     ]
    }
   ],
   "source": [
    "def is_palindrome(number):\n",
    "    original_number = number\n",
    "    reverse_number = 0\n",
    "\n",
    "    while number > 0:\n",
    "        digit = number % 10\n",
    "        reverse_number = reverse_number * 10 + digit\n",
    "        number //= 10\n",
    "\n",
    "    if original_number == reverse_number:\n",
    "        return True\n",
    "    else:\n",
    "        return False\n",
    "\n",
    "# Test the function\n",
    "number = int(input(\"Enter a number: \"))\n",
    "if is_palindrome(number):\n",
    "    print(f\"{number} is a palindrome.\")\n",
    "else:\n",
    "    print(f\"{number} is not a palindrome.\")\n"
   ]
  },
  {
   "cell_type": "code",
   "execution_count": 44,
   "id": "73c8460d-f959-44d8-b707-de15c6ed39fd",
   "metadata": {},
   "outputs": [
    {
     "name": "stdin",
     "output_type": "stream",
     "text": [
      "Enter a number:  5\n"
     ]
    },
    {
     "name": "stdout",
     "output_type": "stream",
     "text": [
      "5 is a palindrome.\n"
     ]
    }
   ],
   "source": [
    "def is_palindrome(number):\n",
    "    original_number = number\n",
    "    reverse_number = 0\n",
    "\n",
    "    while number > 0:\n",
    "        digit = number % 10\n",
    "        reverse_number = reverse_number * 10 + digit\n",
    "        number //= 10\n",
    "\n",
    "    if original_number == reverse_number:\n",
    "        return True\n",
    "    else:\n",
    "        return False\n",
    "\n",
    "# Test the function\n",
    "number = int(input(\"Enter a number: \"))\n",
    "if is_palindrome(number):\n",
    "    print(f\"{number} is a palindrome.\")\n",
    "else:\n",
    "    print(f\"{number} is not a palindrome.\")\n"
   ]
  },
  {
   "cell_type": "code",
   "execution_count": 45,
   "id": "f87bd3a7-8372-41f5-b923-7ac73ae837f1",
   "metadata": {},
   "outputs": [
    {
     "name": "stdin",
     "output_type": "stream",
     "text": [
      "Enter a number:  6\n"
     ]
    },
    {
     "name": "stdout",
     "output_type": "stream",
     "text": [
      "6 is a palindrome.\n"
     ]
    }
   ],
   "source": [
    "def is_palindrome(number):\n",
    "    original_number = number\n",
    "    reverse_number = 0\n",
    "\n",
    "    while number > 0:\n",
    "        digit = number % 10\n",
    "        reverse_number = reverse_number * 10 + digit\n",
    "        number //= 10\n",
    "\n",
    "    if original_number == reverse_number:\n",
    "        return True\n",
    "    else:\n",
    "        return False\n",
    "\n",
    "# Test the function\n",
    "number = int(input(\"Enter a number: \"))\n",
    "if is_palindrome(number):\n",
    "    print(f\"{number} is a palindrome.\")\n",
    "else:\n",
    "    print(f\"{number} is not a palindrome.\")\n"
   ]
  },
  {
   "cell_type": "code",
   "execution_count": 46,
   "id": "271fe9d4-5b05-4f3f-9826-b79facd8f842",
   "metadata": {},
   "outputs": [
    {
     "name": "stdin",
     "output_type": "stream",
     "text": [
      "Enter a number:  15\n"
     ]
    },
    {
     "name": "stdout",
     "output_type": "stream",
     "text": [
      "15 is not a palindrome.\n"
     ]
    }
   ],
   "source": [
    "def is_palindrome(number):\n",
    "    original_number = number\n",
    "    reverse_number = 0\n",
    "\n",
    "    while number > 0:\n",
    "        digit = number % 10\n",
    "        reverse_number = reverse_number * 10 + digit\n",
    "        number //= 10\n",
    "\n",
    "    if original_number == reverse_number:\n",
    "        return True\n",
    "    else:\n",
    "        return False\n",
    "\n",
    "# Test the function\n",
    "number = int(input(\"Enter a number: \"))\n",
    "if is_palindrome(number):\n",
    "    print(f\"{number} is a palindrome.\")\n",
    "else:\n",
    "    print(f\"{number} is not a palindrome.\")\n"
   ]
  },
  {
   "cell_type": "code",
   "execution_count": 47,
   "id": "01ba5a50-425a-49d0-b794-377f1122cb28",
   "metadata": {},
   "outputs": [
    {
     "name": "stdin",
     "output_type": "stream",
     "text": [
      "Enter a number:  9\n"
     ]
    },
    {
     "name": "stdout",
     "output_type": "stream",
     "text": [
      "9 is a palindrome.\n"
     ]
    }
   ],
   "source": [
    "def is_palindrome(number):\n",
    "    original_number = number\n",
    "    reverse_number = 0\n",
    "\n",
    "    while number > 0:\n",
    "        digit = number % 10\n",
    "        reverse_number = reverse_number * 10 + digit\n",
    "        number //= 10\n",
    "\n",
    "    if original_number == reverse_number:\n",
    "        return True\n",
    "    else:\n",
    "        return False\n",
    "\n",
    "# Test the function\n",
    "number = int(input(\"Enter a number: \"))\n",
    "if is_palindrome(number):\n",
    "    print(f\"{number} is a palindrome.\")\n",
    "else:\n",
    "    print(f\"{number} is not a palindrome.\")\n"
   ]
  },
  {
   "cell_type": "markdown",
   "id": "5646a654-7a46-4332-9a67-edeb9d182818",
   "metadata": {},
   "source": [
    "Q9. Write a code to print odd numbers from 1 to 100 using list comprehension.\n",
    "\n",
    "Note: Use a list comprehension to create a list from 1 to 100 and use another List comprehension to filter \n",
    "out odd numbers."
   ]
  },
  {
   "cell_type": "code",
   "execution_count": 48,
   "id": "ac493b57-4454-438f-9eba-e268da13cd96",
   "metadata": {},
   "outputs": [],
   "source": [
    "l=range(1,101)"
   ]
  },
  {
   "cell_type": "code",
   "execution_count": null,
   "id": "d6277e36-d2b0-4f3a-954d-f039991c1515",
   "metadata": {},
   "outputs": [],
   "source": []
  }
 ],
 "metadata": {
  "kernelspec": {
   "display_name": "Python 3 (ipykernel)",
   "language": "python",
   "name": "python3"
  },
  "language_info": {
   "codemirror_mode": {
    "name": "ipython",
    "version": 3
   },
   "file_extension": ".py",
   "mimetype": "text/x-python",
   "name": "python",
   "nbconvert_exporter": "python",
   "pygments_lexer": "ipython3",
   "version": "3.10.8"
  }
 },
 "nbformat": 4,
 "nbformat_minor": 5
}
